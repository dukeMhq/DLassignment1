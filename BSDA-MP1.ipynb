{
 "cells": [
  {
   "cell_type": "code",
   "execution_count": 68,
   "metadata": {},
   "outputs": [
    {
     "data": {
      "image/png": "[encoded data removed]",
      "text/plain": [
       "<Figure size 432x288 with 1 Axes>"
      ]
     },
     "metadata": {
      "needs_background": "light"
     },
     "output_type": "display_data"
    }
   ],
   "source": [
    "import matplotlib.pyplot as plt\n",
    "%matplotlib inline\n",
    "import numpy as np\n",
    "\n",
    "# On some implementations of matplotlib, you may need to change this value\n",
    "IMAGE_SIZE = 72\n",
    "\n",
    "def generate_a_drawing(figsize, U, V, noise=0.0):\n",
    "    fig = plt.figure(figsize=(figsize,figsize))\n",
    "    ax = plt.subplot(111)\n",
    "    plt.axis('Off')\n",
    "    ax.set_xlim(0,figsize)\n",
    "    ax.set_ylim(0,figsize)\n",
    "    ax.fill(U, V, \"k\")\n",
    "    fig.canvas.draw()\n",
    "    imdata = np.frombuffer(fig.canvas.tostring_rgb(), dtype=np.uint8)[::3].astype(np.float32)\n",
    "    imdata = imdata + noise * np.random.random(imdata.size)\n",
    "    plt.close(fig)\n",
    "    return imdata\n",
    "\n",
    "def generate_a_rectangle(noise=0.0, free_location=False):\n",
    "    figsize = 1.0    \n",
    "    U = np.zeros(4)\n",
    "    V = np.zeros(4)\n",
    "    if free_location:\n",
    "        corners = np.random.random(4)\n",
    "        top = max(corners[0], corners[1])\n",
    "        bottom = min(corners[0], corners[1])\n",
    "        left = min(corners[2], corners[3])\n",
    "        right = max(corners[2], corners[3])\n",
    "    else:\n",
    "        side = (0.3 + 0.7 * np.random.random()) * figsize\n",
    "        top = figsize/2 + side/2\n",
    "        bottom = figsize/2 - side/2\n",
    "        left = bottom\n",
    "        right = top\n",
    "    U[0] = U[1] = top\n",
    "    U[2] = U[3] = bottom\n",
    "    V[0] = V[3] = left\n",
    "    V[1] = V[2] = right\n",
    "    return generate_a_drawing(figsize, U, V, noise)\n",
    "\n",
    "\n",
    "def generate_a_disk(noise=0.0, free_location=False):\n",
    "    figsize = 1.0\n",
    "    if free_location:\n",
    "        center = np.random.random(2)\n",
    "    else:\n",
    "        center = (figsize/2, figsize/2)\n",
    "    radius = (0.3 + 0.7 * np.random.random()) * figsize/2\n",
    "    N = 50\n",
    "    U = np.zeros(N)\n",
    "    V = np.zeros(N)\n",
    "    i = 0\n",
    "    for t in np.linspace(0, 2*np.pi, N):\n",
    "        U[i] = center[0] + np.cos(t) * radius\n",
    "        V[i] = center[1] + np.sin(t) * radius\n",
    "        i = i + 1\n",
    "    return generate_a_drawing(figsize, U, V, noise)\n",
    "\n",
    "def generate_a_triangle(noise=0.0, free_location=False):\n",
    "    figsize = 1.0\n",
    "    if free_location:\n",
    "        U = np.random.random(3)\n",
    "        V = np.random.random(3)\n",
    "    else:\n",
    "        size = (0.3 + 0.7 * np.random.random())*figsize/2\n",
    "        middle = figsize/2\n",
    "        U = (middle, middle+size, middle-size)\n",
    "        V = (middle+size, middle-size, middle-size)\n",
    "    imdata = generate_a_drawing(figsize, U, V, noise)\n",
    "    return [imdata, [U[0], V[0], U[1], V[1], U[2], V[2]]]\n",
    "\n",
    "\n",
    "im = generate_a_rectangle(10, True)\n",
    "plt.imshow(im.reshape(IMAGE_SIZE,IMAGE_SIZE), cmap='gray')\n",
    "\n",
    "im = generate_a_disk(10)\n",
    "plt.imshow(im.reshape(IMAGE_SIZE,IMAGE_SIZE), cmap='gray')\n",
    "\n",
    "[im, v] = generate_a_triangle(20, False)\n",
    "plt.imshow(im.reshape(IMAGE_SIZE,IMAGE_SIZE), cmap='gray')\n",
    "\n",
    "\n",
    "def generate_dataset_classification(nb_samples, noise=0.0, free_location=False):\n",
    "    # Getting im_size:\n",
    "    im_size = generate_a_rectangle().shape[0]\n",
    "    X = np.zeros([nb_samples,im_size])\n",
    "    Y = np.zeros(nb_samples)\n",
    "    print('Creating data:')\n",
    "    for i in range(nb_samples):\n",
    "        if i % 10 == 0:\n",
    "            print(i)\n",
    "        category = np.random.randint(3)\n",
    "        if category == 0:\n",
    "            X[i] = generate_a_rectangle(noise, free_location)\n",
    "        elif category == 1: \n",
    "            X[i] = generate_a_disk(noise, free_location)\n",
    "        else:\n",
    "            [X[i], V] = generate_a_triangle(noise, free_location)\n",
    "        Y[i] = category\n",
    "    X = (X + noise) / (255 + 2 * noise)\n",
    "    return [X, Y]\n",
    "\n",
    "def generate_test_set_classification():\n",
    "    np.random.seed(42)\n",
    "    [X_test, Y_test] = generate_dataset_classification(300, 20, True)\n",
    "    Y_test = np_utils.to_categorical(Y_test, 3) \n",
    "    return [X_test, Y_test]\n",
    "\n",
    "def generate_dataset_regression(nb_samples, noise=0.0):\n",
    "    # Getting im_size:\n",
    "    im_size = generate_a_triangle()[0].shape[0]\n",
    "    X = np.zeros([nb_samples,im_size])\n",
    "    Y = np.zeros([nb_samples, 6])\n",
    "    print('Creating data:')\n",
    "    for i in range(nb_samples):\n",
    "        if i % 10 == 0:\n",
    "            print(i)\n",
    "        [X[i], Y[i]] = generate_a_triangle(noise, True)\n",
    "    X = (X + noise) / (255 + 2 * noise)\n",
    "    return [X, Y]\n",
    "\n",
    "import matplotlib.patches as patches\n",
    "\n",
    "def visualize_prediction(x, y):\n",
    "    fig, ax = plt.subplots(figsize=(5, 5))\n",
    "    I = x.reshape((IMAGE_SIZE,IMAGE_SIZE))\n",
    "    ax.imshow(I, extent=[-0.15,1.15,-0.15,1.15],cmap='gray')\n",
    "    ax.set_xlim([0,1])\n",
    "    ax.set_ylim([0,1])\n",
    "\n",
    "    xy = y.reshape(3,2)\n",
    "    tri = patches.Polygon(xy, closed=True, fill = False, edgecolor = 'r', linewidth = 5, alpha = 0.5)\n",
    "    ax.add_patch(tri)\n",
    "\n",
    "    plt.show()\n",
    "\n",
    "def generate_test_set_regression():\n",
    "    np.random.seed(42)\n",
    "    [X_test, Y_test] = generate_dataset_regression(300, 20)\n",
    "    return [X_test, Y_test]\n",
    "\n",
    "\n"
   ]
  },
  {
   "cell_type": "markdown",
   "metadata": {},
   "source": [
    "# 3 simple classification"
   ]
  },
  {
   "cell_type": "code",
   "execution_count": 476,
   "metadata": {},
   "outputs": [
    {
     "name": "stdout",
     "output_type": "stream",
     "text": [
      "Creating data:\n",
      "0\n",
      "10\n",
      "20\n",
      "30\n",
      "40\n",
      "50\n",
      "60\n",
      "70\n",
      "80\n",
      "90\n",
      "100\n",
      "110\n",
      "120\n",
      "130\n",
      "140\n",
      "150\n",
      "160\n",
      "170\n",
      "180\n",
      "190\n",
      "200\n",
      "210\n",
      "220\n",
      "230\n",
      "240\n",
      "250\n",
      "260\n",
      "270\n",
      "280\n",
      "290\n"
     ]
    }
   ],
   "source": [
    "[X_train, Y_train] = generate_dataset_classification(300, 20)"
   ]
  },
  {
   "cell_type": "code",
   "execution_count": 477,
   "metadata": {},
   "outputs": [
    {
     "data": {
      "text/plain": [
       "(300, 5184)"
      ]
     },
     "execution_count": 477,
     "metadata": {},
     "output_type": "execute_result"
    }
   ],
   "source": [
    "X_train.shape"
   ]
  },
  {
   "cell_type": "code",
   "execution_count": 478,
   "metadata": {},
   "outputs": [
    {
     "name": "stdout",
     "output_type": "stream",
     "text": [
      "(300, 3)\n"
     ]
    }
   ],
   "source": [
    "from keras import utils as np_utils\n",
    "Y_train.shape\n",
    "Y_train = np_utils.to_categorical(Y_train, num_classes=3)\n",
    "print(Y_train.shape)"
   ]
  },
  {
   "cell_type": "code",
   "execution_count": 479,
   "metadata": {},
   "outputs": [],
   "source": [
    "import keras.utils\n",
    "from keras.models import Sequential\n",
    "from keras.layers import Dense, Activation\n",
    "\n",
    "nb_neurons = 20\n",
    "model_1 = Sequential([\n",
    "    Dense(nb_neurons,input_shape=(5184,)),\n",
    "    Activation('relu'),\n",
    "    Dense(3),\n",
    "    Activation('softmax'),\n",
    "])\n"
   ]
  },
  {
   "cell_type": "code",
   "execution_count": 480,
   "metadata": {},
   "outputs": [
    {
     "name": "stdout",
     "output_type": "stream",
     "text": [
      "Epoch 1/200\n",
      "300/300 [==============================] - 3s 9ms/step - loss: 0.2448 - acc: 0.4433\n",
      "Epoch 2/200\n",
      "300/300 [==============================] - 0s 189us/step - loss: 0.1593 - acc: 0.6100\n",
      "Epoch 3/200\n",
      "300/300 [==============================] - 0s 176us/step - loss: 0.1299 - acc: 0.6933\n",
      "Epoch 4/200\n",
      "300/300 [==============================] - 0s 188us/step - loss: 0.1180 - acc: 0.7633\n",
      "Epoch 5/200\n",
      "300/300 [==============================] - 0s 180us/step - loss: 0.1123 - acc: 0.7567\n",
      "Epoch 6/200\n",
      "300/300 [==============================] - 0s 188us/step - loss: 0.1015 - acc: 0.8100\n",
      "Epoch 7/200\n",
      "300/300 [==============================] - 0s 196us/step - loss: 0.0859 - acc: 0.8700\n",
      "Epoch 8/200\n",
      "300/300 [==============================] - 0s 180us/step - loss: 0.0854 - acc: 0.8133\n",
      "Epoch 9/200\n",
      "300/300 [==============================] - 0s 183us/step - loss: 0.0684 - acc: 0.8933\n",
      "Epoch 10/200\n",
      "300/300 [==============================] - 0s 193us/step - loss: 0.0575 - acc: 0.8933\n",
      "Epoch 11/200\n",
      "300/300 [==============================] - 0s 180us/step - loss: 0.0532 - acc: 0.8933\n",
      "Epoch 12/200\n",
      "300/300 [==============================] - 0s 199us/step - loss: 0.0508 - acc: 0.9100\n",
      "Epoch 13/200\n",
      "300/300 [==============================] - 0s 196us/step - loss: 0.0416 - acc: 0.9133\n",
      "Epoch 14/200\n",
      "300/300 [==============================] - 0s 196us/step - loss: 0.0410 - acc: 0.9200\n",
      "Epoch 15/200\n",
      "300/300 [==============================] - 0s 180us/step - loss: 0.0407 - acc: 0.9133\n",
      "Epoch 16/200\n",
      "300/300 [==============================] - 0s 189us/step - loss: 0.0358 - acc: 0.9333\n",
      "Epoch 17/200\n",
      "300/300 [==============================] - 0s 183us/step - loss: 0.0211 - acc: 0.9900\n",
      "Epoch 18/200\n",
      "300/300 [==============================] - 0s 180us/step - loss: 0.0237 - acc: 0.9700\n",
      "Epoch 19/200\n",
      "300/300 [==============================] - 0s 176us/step - loss: 0.0299 - acc: 0.9533\n",
      "Epoch 20/200\n",
      "300/300 [==============================] - 0s 173us/step - loss: 0.0163 - acc: 0.9867\n",
      "Epoch 21/200\n",
      "300/300 [==============================] - 0s 179us/step - loss: 0.0239 - acc: 0.9633\n",
      "Epoch 22/200\n",
      "300/300 [==============================] - 0s 173us/step - loss: 0.0321 - acc: 0.9367\n",
      "Epoch 23/200\n",
      "300/300 [==============================] - 0s 179us/step - loss: 0.0125 - acc: 0.9900\n",
      "Epoch 24/200\n",
      "300/300 [==============================] - 0s 189us/step - loss: 0.0112 - acc: 0.9900\n",
      "Epoch 25/200\n",
      "300/300 [==============================] - 0s 193us/step - loss: 0.0089 - acc: 0.9967\n",
      "Epoch 26/200\n",
      "300/300 [==============================] - 0s 213us/step - loss: 0.0076 - acc: 1.0000\n",
      "Epoch 27/200\n",
      "300/300 [==============================] - 0s 189us/step - loss: 0.0092 - acc: 0.9900\n",
      "Epoch 28/200\n",
      "300/300 [==============================] - 0s 186us/step - loss: 0.0058 - acc: 1.0000\n",
      "Epoch 29/200\n",
      "300/300 [==============================] - 0s 180us/step - loss: 0.0048 - acc: 1.0000\n",
      "Epoch 30/200\n",
      "300/300 [==============================] - 0s 186us/step - loss: 0.0046 - acc: 1.0000\n",
      "Epoch 31/200\n",
      "300/300 [==============================] - 0s 186us/step - loss: 0.0050 - acc: 0.9967\n",
      "Epoch 32/200\n",
      "300/300 [==============================] - 0s 189us/step - loss: 0.0068 - acc: 0.9900\n",
      "Epoch 33/200\n",
      "300/300 [==============================] - 0s 223us/step - loss: 0.0037 - acc: 0.9967\n",
      "Epoch 34/200\n",
      "300/300 [==============================] - 0s 196us/step - loss: 0.0034 - acc: 1.0000\n",
      "Epoch 35/200\n",
      "300/300 [==============================] - 0s 176us/step - loss: 0.0031 - acc: 1.0000\n",
      "Epoch 36/200\n",
      "300/300 [==============================] - 0s 216us/step - loss: 0.0029 - acc: 1.0000\n",
      "Epoch 37/200\n",
      "300/300 [==============================] - 0s 193us/step - loss: 0.0037 - acc: 1.0000\n",
      "Epoch 38/200\n",
      "300/300 [==============================] - 0s 193us/step - loss: 0.0025 - acc: 1.0000\n",
      "Epoch 39/200\n",
      "300/300 [==============================] - 0s 180us/step - loss: 0.0029 - acc: 1.0000\n",
      "Epoch 40/200\n",
      "300/300 [==============================] - 0s 196us/step - loss: 0.0027 - acc: 1.0000\n",
      "Epoch 41/200\n",
      "300/300 [==============================] - 0s 176us/step - loss: 0.0021 - acc: 1.0000\n",
      "Epoch 42/200\n",
      "300/300 [==============================] - 0s 213us/step - loss: 0.0031 - acc: 1.0000\n",
      "Epoch 43/200\n",
      "300/300 [==============================] - 0s 180us/step - loss: 0.0020 - acc: 1.0000\n",
      "Epoch 44/200\n",
      "300/300 [==============================] - 0s 183us/step - loss: 0.0019 - acc: 1.0000\n",
      "Epoch 45/200\n",
      "300/300 [==============================] - 0s 179us/step - loss: 0.0023 - acc: 1.0000\n",
      "Epoch 46/200\n",
      "300/300 [==============================] - 0s 186us/step - loss: 0.0021 - acc: 1.0000\n",
      "Epoch 47/200\n",
      "300/300 [==============================] - 0s 203us/step - loss: 0.0016 - acc: 1.0000\n",
      "Epoch 48/200\n",
      "300/300 [==============================] - 0s 196us/step - loss: 0.0016 - acc: 1.0000\n",
      "Epoch 49/200\n",
      "300/300 [==============================] - 0s 193us/step - loss: 0.0016 - acc: 1.0000\n",
      "Epoch 50/200\n",
      "300/300 [==============================] - 0s 189us/step - loss: 0.0015 - acc: 1.0000\n",
      "Epoch 51/200\n",
      "300/300 [==============================] - 0s 189us/step - loss: 0.0014 - acc: 1.0000\n",
      "Epoch 52/200\n",
      "300/300 [==============================] - 0s 170us/step - loss: 0.0014 - acc: 1.0000\n",
      "Epoch 53/200\n",
      "300/300 [==============================] - 0s 196us/step - loss: 0.0011 - acc: 1.0000\n",
      "Epoch 54/200\n",
      "300/300 [==============================] - 0s 188us/step - loss: 0.0013 - acc: 1.0000\n",
      "Epoch 55/200\n",
      "300/300 [==============================] - 0s 176us/step - loss: 0.0012 - acc: 1.0000\n",
      "Epoch 56/200\n",
      "300/300 [==============================] - 0s 175us/step - loss: 0.0014 - acc: 1.0000\n",
      "Epoch 57/200\n",
      "300/300 [==============================] - 0s 186us/step - loss: 0.0010 - acc: 1.0000\n",
      "Epoch 58/200\n",
      "300/300 [==============================] - 0s 200us/step - loss: 0.0012 - acc: 1.0000\n",
      "Epoch 59/200\n",
      "300/300 [==============================] - 0s 186us/step - loss: 9.4188e-04 - acc: 1.0000\n",
      "Epoch 60/200\n",
      "300/300 [==============================] - 0s 196us/step - loss: 0.0012 - acc: 1.0000\n",
      "Epoch 61/200\n",
      "300/300 [==============================] - 0s 189us/step - loss: 8.6057e-04 - acc: 1.0000\n",
      "Epoch 62/200\n",
      "300/300 [==============================] - 0s 189us/step - loss: 9.2417e-04 - acc: 1.0000\n",
      "Epoch 63/200\n",
      "300/300 [==============================] - 0s 176us/step - loss: 8.8520e-04 - acc: 1.0000\n",
      "Epoch 64/200\n",
      "300/300 [==============================] - 0s 180us/step - loss: 7.9844e-04 - acc: 1.0000\n",
      "Epoch 65/200\n",
      "300/300 [==============================] - 0s 195us/step - loss: 7.7530e-04 - acc: 1.0000\n",
      "Epoch 66/200\n",
      "300/300 [==============================] - 0s 196us/step - loss: 8.1238e-04 - acc: 1.0000\n",
      "Epoch 67/200\n",
      "300/300 [==============================] - 0s 176us/step - loss: 0.0011 - acc: 1.0000\n",
      "Epoch 68/200\n",
      "300/300 [==============================] - 0s 173us/step - loss: 7.5178e-04 - acc: 1.0000\n",
      "Epoch 69/200\n",
      "300/300 [==============================] - 0s 173us/step - loss: 7.6145e-04 - acc: 1.0000\n",
      "Epoch 70/200\n",
      "300/300 [==============================] - 0s 170us/step - loss: 7.4204e-04 - acc: 1.0000\n",
      "Epoch 71/200\n",
      "300/300 [==============================] - 0s 173us/step - loss: 8.6539e-04 - acc: 1.0000\n",
      "Epoch 72/200\n",
      "300/300 [==============================] - 0s 176us/step - loss: 7.2624e-04 - acc: 1.0000\n",
      "Epoch 73/200\n",
      "300/300 [==============================] - 0s 183us/step - loss: 6.7125e-04 - acc: 1.0000\n",
      "Epoch 74/200\n",
      "300/300 [==============================] - 0s 180us/step - loss: 6.5988e-04 - acc: 1.0000\n",
      "Epoch 75/200\n",
      "300/300 [==============================] - 0s 183us/step - loss: 6.7685e-04 - acc: 1.0000\n",
      "Epoch 76/200\n",
      "300/300 [==============================] - 0s 173us/step - loss: 6.6555e-04 - acc: 1.0000\n",
      "Epoch 77/200\n",
      "300/300 [==============================] - 0s 176us/step - loss: 6.7245e-04 - acc: 1.0000\n",
      "Epoch 78/200\n",
      "300/300 [==============================] - 0s 175us/step - loss: 5.8270e-04 - acc: 1.0000\n",
      "Epoch 79/200\n",
      "300/300 [==============================] - 0s 189us/step - loss: 7.0370e-04 - acc: 1.0000\n",
      "Epoch 80/200\n",
      "300/300 [==============================] - 0s 209us/step - loss: 5.9088e-04 - acc: 1.0000\n",
      "Epoch 81/200\n",
      "300/300 [==============================] - 0s 229us/step - loss: 6.0183e-04 - acc: 1.0000\n",
      "Epoch 82/200\n",
      "300/300 [==============================] - 0s 203us/step - loss: 5.8476e-04 - acc: 1.0000\n"
     ]
    },
    {
     "name": "stdout",
     "output_type": "stream",
     "text": [
      "Epoch 83/200\n",
      "300/300 [==============================] - 0s 189us/step - loss: 5.3334e-04 - acc: 1.0000\n",
      "Epoch 84/200\n",
      "300/300 [==============================] - 0s 186us/step - loss: 5.0940e-04 - acc: 1.0000\n",
      "Epoch 85/200\n",
      "300/300 [==============================] - 0s 176us/step - loss: 6.9426e-04 - acc: 1.0000\n",
      "Epoch 86/200\n",
      "300/300 [==============================] - 0s 176us/step - loss: 0.0013 - acc: 1.0000\n",
      "Epoch 87/200\n",
      "300/300 [==============================] - 0s 186us/step - loss: 5.9611e-04 - acc: 1.0000\n",
      "Epoch 88/200\n",
      "300/300 [==============================] - 0s 193us/step - loss: 4.8729e-04 - acc: 1.0000\n",
      "Epoch 89/200\n",
      "300/300 [==============================] - 0s 193us/step - loss: 4.4252e-04 - acc: 1.0000\n",
      "Epoch 90/200\n",
      "300/300 [==============================] - 0s 203us/step - loss: 4.5549e-04 - acc: 1.0000\n",
      "Epoch 91/200\n",
      "300/300 [==============================] - 0s 193us/step - loss: 4.2534e-04 - acc: 1.0000\n",
      "Epoch 92/200\n",
      "300/300 [==============================] - 0s 183us/step - loss: 5.6737e-04 - acc: 1.0000\n",
      "Epoch 93/200\n",
      "300/300 [==============================] - 0s 175us/step - loss: 4.4223e-04 - acc: 1.0000\n",
      "Epoch 94/200\n",
      "300/300 [==============================] - 0s 176us/step - loss: 4.3558e-04 - acc: 1.0000\n",
      "Epoch 95/200\n",
      "300/300 [==============================] - 0s 176us/step - loss: 4.2381e-04 - acc: 1.0000\n",
      "Epoch 96/200\n",
      "300/300 [==============================] - 0s 173us/step - loss: 3.9866e-04 - acc: 1.0000\n",
      "Epoch 97/200\n",
      "300/300 [==============================] - 0s 180us/step - loss: 3.8894e-04 - acc: 1.0000\n",
      "Epoch 98/200\n",
      "300/300 [==============================] - 0s 186us/step - loss: 3.8898e-04 - acc: 1.0000\n",
      "Epoch 99/200\n",
      "300/300 [==============================] - 0s 176us/step - loss: 4.1175e-04 - acc: 1.0000\n",
      "Epoch 100/200\n",
      "300/300 [==============================] - 0s 180us/step - loss: 4.0968e-04 - acc: 1.0000\n",
      "Epoch 101/200\n",
      "300/300 [==============================] - 0s 178us/step - loss: 3.6678e-04 - acc: 1.0000\n",
      "Epoch 102/200\n",
      "300/300 [==============================] - 0s 182us/step - loss: 3.8327e-04 - acc: 1.0000\n",
      "Epoch 103/200\n",
      "300/300 [==============================] - 0s 180us/step - loss: 3.6164e-04 - acc: 1.0000\n",
      "Epoch 104/200\n",
      "300/300 [==============================] - 0s 176us/step - loss: 3.8095e-04 - acc: 1.0000\n",
      "Epoch 105/200\n",
      "300/300 [==============================] - 0s 173us/step - loss: 3.4306e-04 - acc: 1.0000\n",
      "Epoch 106/200\n",
      "300/300 [==============================] - 0s 168us/step - loss: 3.3110e-04 - acc: 1.0000\n",
      "Epoch 107/200\n",
      "300/300 [==============================] - 0s 176us/step - loss: 3.7951e-04 - acc: 1.0000\n",
      "Epoch 108/200\n",
      "300/300 [==============================] - 0s 178us/step - loss: 3.1251e-04 - acc: 1.0000\n",
      "Epoch 109/200\n",
      "300/300 [==============================] - 0s 176us/step - loss: 3.4942e-04 - acc: 1.0000\n",
      "Epoch 110/200\n",
      "300/300 [==============================] - 0s 180us/step - loss: 3.2132e-04 - acc: 1.0000\n",
      "Epoch 111/200\n",
      "300/300 [==============================] - 0s 179us/step - loss: 3.3069e-04 - acc: 1.0000\n",
      "Epoch 112/200\n",
      "300/300 [==============================] - 0s 180us/step - loss: 3.3167e-04 - acc: 1.0000\n",
      "Epoch 113/200\n",
      "300/300 [==============================] - 0s 176us/step - loss: 3.0364e-04 - acc: 1.0000\n",
      "Epoch 114/200\n",
      "300/300 [==============================] - 0s 179us/step - loss: 3.1069e-04 - acc: 1.0000\n",
      "Epoch 115/200\n",
      "300/300 [==============================] - 0s 166us/step - loss: 3.1923e-04 - acc: 1.0000\n",
      "Epoch 116/200\n",
      "300/300 [==============================] - 0s 180us/step - loss: 2.8768e-04 - acc: 1.0000\n",
      "Epoch 117/200\n",
      "300/300 [==============================] - 0s 170us/step - loss: 2.8892e-04 - acc: 1.0000\n",
      "Epoch 118/200\n",
      "300/300 [==============================] - 0s 183us/step - loss: 3.6549e-04 - acc: 1.0000\n",
      "Epoch 119/200\n",
      "300/300 [==============================] - 0s 170us/step - loss: 3.5715e-04 - acc: 1.0000\n",
      "Epoch 120/200\n",
      "300/300 [==============================] - 0s 176us/step - loss: 3.0914e-04 - acc: 1.0000\n",
      "Epoch 121/200\n",
      "300/300 [==============================] - 0s 166us/step - loss: 2.8094e-04 - acc: 1.0000\n",
      "Epoch 122/200\n",
      "300/300 [==============================] - 0s 176us/step - loss: 2.8049e-04 - acc: 1.0000\n",
      "Epoch 123/200\n",
      "300/300 [==============================] - 0s 180us/step - loss: 2.6945e-04 - acc: 1.0000\n",
      "Epoch 124/200\n",
      "300/300 [==============================] - 0s 183us/step - loss: 2.6994e-04 - acc: 1.0000\n",
      "Epoch 125/200\n",
      "300/300 [==============================] - 0s 180us/step - loss: 2.7396e-04 - acc: 1.0000\n",
      "Epoch 126/200\n",
      "300/300 [==============================] - 0s 189us/step - loss: 2.9568e-04 - acc: 1.0000\n",
      "Epoch 127/200\n",
      "300/300 [==============================] - 0s 186us/step - loss: 2.6557e-04 - acc: 1.0000\n",
      "Epoch 128/200\n",
      "300/300 [==============================] - 0s 193us/step - loss: 2.6634e-04 - acc: 1.0000\n",
      "Epoch 129/200\n",
      "300/300 [==============================] - 0s 186us/step - loss: 2.5814e-04 - acc: 1.0000\n",
      "Epoch 130/200\n",
      "300/300 [==============================] - 0s 183us/step - loss: 2.5275e-04 - acc: 1.0000\n",
      "Epoch 131/200\n",
      "300/300 [==============================] - 0s 186us/step - loss: 2.6183e-04 - acc: 1.0000\n",
      "Epoch 132/200\n",
      "300/300 [==============================] - 0s 180us/step - loss: 2.5183e-04 - acc: 1.0000\n",
      "Epoch 133/200\n",
      "300/300 [==============================] - 0s 176us/step - loss: 2.3773e-04 - acc: 1.0000\n",
      "Epoch 134/200\n",
      "300/300 [==============================] - 0s 183us/step - loss: 2.4320e-04 - acc: 1.0000\n",
      "Epoch 135/200\n",
      "300/300 [==============================] - 0s 176us/step - loss: 2.3447e-04 - acc: 1.0000\n",
      "Epoch 136/200\n",
      "300/300 [==============================] - 0s 176us/step - loss: 2.3789e-04 - acc: 1.0000\n",
      "Epoch 137/200\n",
      "300/300 [==============================] - 0s 179us/step - loss: 2.3457e-04 - acc: 1.0000\n",
      "Epoch 138/200\n",
      "300/300 [==============================] - 0s 190us/step - loss: 2.2891e-04 - acc: 1.0000\n",
      "Epoch 139/200\n",
      "300/300 [==============================] - 0s 189us/step - loss: 2.3545e-04 - acc: 1.0000\n",
      "Epoch 140/200\n",
      "300/300 [==============================] - 0s 180us/step - loss: 2.2602e-04 - acc: 1.0000\n",
      "Epoch 141/200\n",
      "300/300 [==============================] - 0s 186us/step - loss: 2.2674e-04 - acc: 1.0000\n",
      "Epoch 142/200\n",
      "300/300 [==============================] - 0s 183us/step - loss: 2.1668e-04 - acc: 1.0000\n",
      "Epoch 143/200\n",
      "300/300 [==============================] - 0s 169us/step - loss: 2.1971e-04 - acc: 1.0000\n",
      "Epoch 144/200\n",
      "300/300 [==============================] - 0s 183us/step - loss: 2.2804e-04 - acc: 1.0000\n",
      "Epoch 145/200\n",
      "300/300 [==============================] - 0s 179us/step - loss: 2.1558e-04 - acc: 1.0000\n",
      "Epoch 146/200\n",
      "300/300 [==============================] - 0s 170us/step - loss: 2.1660e-04 - acc: 1.0000\n",
      "Epoch 147/200\n",
      "300/300 [==============================] - 0s 176us/step - loss: 2.0907e-04 - acc: 1.0000\n",
      "Epoch 148/200\n",
      "300/300 [==============================] - 0s 180us/step - loss: 2.1055e-04 - acc: 1.0000\n",
      "Epoch 149/200\n",
      "300/300 [==============================] - 0s 176us/step - loss: 2.5161e-04 - acc: 1.0000\n",
      "Epoch 150/200\n",
      "300/300 [==============================] - 0s 180us/step - loss: 2.0375e-04 - acc: 1.0000\n",
      "Epoch 151/200\n",
      "300/300 [==============================] - 0s 180us/step - loss: 1.9862e-04 - acc: 1.0000\n",
      "Epoch 152/200\n",
      "300/300 [==============================] - 0s 167us/step - loss: 2.2148e-04 - acc: 1.0000\n",
      "Epoch 153/200\n",
      "300/300 [==============================] - 0s 176us/step - loss: 2.0994e-04 - acc: 1.0000\n",
      "Epoch 154/200\n",
      "300/300 [==============================] - 0s 186us/step - loss: 1.9491e-04 - acc: 1.0000\n",
      "Epoch 155/200\n",
      "300/300 [==============================] - 0s 180us/step - loss: 1.9466e-04 - acc: 1.0000\n",
      "Epoch 156/200\n",
      "300/300 [==============================] - 0s 209us/step - loss: 1.9843e-04 - acc: 1.0000\n",
      "Epoch 157/200\n",
      "300/300 [==============================] - 0s 186us/step - loss: 1.9588e-04 - acc: 1.0000\n",
      "Epoch 158/200\n",
      "300/300 [==============================] - 0s 173us/step - loss: 1.9760e-04 - acc: 1.0000\n",
      "Epoch 159/200\n",
      "300/300 [==============================] - 0s 196us/step - loss: 1.8660e-04 - acc: 1.0000\n",
      "Epoch 160/200\n",
      "300/300 [==============================] - 0s 173us/step - loss: 1.8598e-04 - acc: 1.0000\n",
      "Epoch 161/200\n",
      "300/300 [==============================] - 0s 179us/step - loss: 1.8810e-04 - acc: 1.0000\n"
     ]
    },
    {
     "name": "stdout",
     "output_type": "stream",
     "text": [
      "Epoch 162/200\n",
      "300/300 [==============================] - 0s 183us/step - loss: 1.8329e-04 - acc: 1.0000\n",
      "Epoch 163/200\n",
      "300/300 [==============================] - 0s 183us/step - loss: 1.7765e-04 - acc: 1.0000\n",
      "Epoch 164/200\n",
      "300/300 [==============================] - 0s 183us/step - loss: 1.8690e-04 - acc: 1.0000\n",
      "Epoch 165/200\n",
      "300/300 [==============================] - 0s 180us/step - loss: 1.7508e-04 - acc: 1.0000\n",
      "Epoch 166/200\n",
      "300/300 [==============================] - 0s 189us/step - loss: 1.7687e-04 - acc: 1.0000\n",
      "Epoch 167/200\n",
      "300/300 [==============================] - 0s 166us/step - loss: 1.7440e-04 - acc: 1.0000\n",
      "Epoch 168/200\n",
      "300/300 [==============================] - 0s 203us/step - loss: 1.7122e-04 - acc: 1.0000\n",
      "Epoch 169/200\n",
      "300/300 [==============================] - 0s 176us/step - loss: 1.7096e-04 - acc: 1.0000\n",
      "Epoch 170/200\n",
      "300/300 [==============================] - 0s 166us/step - loss: 1.6936e-04 - acc: 1.0000\n",
      "Epoch 171/200\n",
      "300/300 [==============================] - 0s 166us/step - loss: 1.6759e-04 - acc: 1.0000\n",
      "Epoch 172/200\n",
      "300/300 [==============================] - 0s 166us/step - loss: 1.6807e-04 - acc: 1.0000\n",
      "Epoch 173/200\n",
      "300/300 [==============================] - 0s 180us/step - loss: 1.6703e-04 - acc: 1.0000\n",
      "Epoch 174/200\n",
      "300/300 [==============================] - 0s 176us/step - loss: 1.6607e-04 - acc: 1.0000\n",
      "Epoch 175/200\n",
      "300/300 [==============================] - 0s 183us/step - loss: 1.6077e-04 - acc: 1.0000\n",
      "Epoch 176/200\n",
      "300/300 [==============================] - 0s 189us/step - loss: 1.6589e-04 - acc: 1.0000\n",
      "Epoch 177/200\n",
      "300/300 [==============================] - 0s 180us/step - loss: 1.6028e-04 - acc: 1.0000\n",
      "Epoch 178/200\n",
      "300/300 [==============================] - 0s 186us/step - loss: 1.6397e-04 - acc: 1.0000\n",
      "Epoch 179/200\n",
      "300/300 [==============================] - 0s 180us/step - loss: 1.6601e-04 - acc: 1.0000\n",
      "Epoch 180/200\n",
      "300/300 [==============================] - 0s 183us/step - loss: 1.5958e-04 - acc: 1.0000\n",
      "Epoch 181/200\n",
      "300/300 [==============================] - 0s 176us/step - loss: 1.6158e-04 - acc: 1.0000\n",
      "Epoch 182/200\n",
      "300/300 [==============================] - 0s 173us/step - loss: 1.5540e-04 - acc: 1.0000\n",
      "Epoch 183/200\n",
      "300/300 [==============================] - 0s 186us/step - loss: 1.6613e-04 - acc: 1.0000\n",
      "Epoch 184/200\n",
      "300/300 [==============================] - 0s 186us/step - loss: 1.5229e-04 - acc: 1.0000\n",
      "Epoch 185/200\n",
      "300/300 [==============================] - 0s 176us/step - loss: 1.5206e-04 - acc: 1.0000\n",
      "Epoch 186/200\n",
      "300/300 [==============================] - 0s 166us/step - loss: 1.4944e-04 - acc: 1.0000\n",
      "Epoch 187/200\n",
      "300/300 [==============================] - 0s 185us/step - loss: 1.5081e-04 - acc: 1.0000\n",
      "Epoch 188/200\n",
      "300/300 [==============================] - 0s 170us/step - loss: 1.5301e-04 - acc: 1.0000\n",
      "Epoch 189/200\n",
      "300/300 [==============================] - 0s 185us/step - loss: 1.4796e-04 - acc: 1.0000\n",
      "Epoch 190/200\n",
      "300/300 [==============================] - 0s 170us/step - loss: 1.5520e-04 - acc: 1.0000\n",
      "Epoch 191/200\n",
      "300/300 [==============================] - 0s 169us/step - loss: 1.7861e-04 - acc: 1.0000\n",
      "Epoch 192/200\n",
      "300/300 [==============================] - 0s 176us/step - loss: 1.4812e-04 - acc: 1.0000\n",
      "Epoch 193/200\n",
      "300/300 [==============================] - 0s 176us/step - loss: 1.4345e-04 - acc: 1.0000\n",
      "Epoch 194/200\n",
      "300/300 [==============================] - 0s 183us/step - loss: 1.4103e-04 - acc: 1.0000\n",
      "Epoch 195/200\n",
      "300/300 [==============================] - 0s 180us/step - loss: 1.4012e-04 - acc: 1.0000\n",
      "Epoch 196/200\n",
      "300/300 [==============================] - 0s 170us/step - loss: 1.3850e-04 - acc: 1.0000\n",
      "Epoch 197/200\n",
      "300/300 [==============================] - 0s 180us/step - loss: 1.3988e-04 - acc: 1.0000\n",
      "Epoch 198/200\n",
      "300/300 [==============================] - 0s 173us/step - loss: 1.4123e-04 - acc: 1.0000\n",
      "Epoch 199/200\n",
      "300/300 [==============================] - 0s 186us/step - loss: 1.4597e-04 - acc: 1.0000\n",
      "Epoch 200/200\n",
      "300/300 [==============================] - 0s 173us/step - loss: 1.3863e-04 - acc: 1.0000\n"
     ]
    },
    {
     "data": {
      "text/plain": [
       "<keras.callbacks.History at 0x1ccce61b1d0>"
      ]
     },
     "execution_count": 480,
     "metadata": {},
     "output_type": "execute_result"
    }
   ],
   "source": [
    "from keras.optimizers import SGD\n",
    "sgd = SGD(lr=0.01,\n",
    "    decay=1e-6, momentum=0.9,\n",
    "    nesterov=True)\n",
    "model_1.compile(loss='mean_squared_error',optimizer=sgd,metrics=['accuracy'])\n",
    "model_1.fit(X_train, Y_train, epochs=200, batch_size=32)"
   ]
  },
  {
   "cell_type": "code",
   "execution_count": 481,
   "metadata": {},
   "outputs": [
    {
     "name": "stdout",
     "output_type": "stream",
     "text": [
      "Epoch 1/100\n",
      "300/300 [==============================] - 3s 9ms/step - loss: 0.3870 - acc: 0.8500\n",
      "Epoch 2/100\n",
      "300/300 [==============================] - 0s 199us/step - loss: 0.0687 - acc: 0.9867\n",
      "Epoch 3/100\n",
      "300/300 [==============================] - 0s 199us/step - loss: 0.0756 - acc: 0.9767\n",
      "Epoch 4/100\n",
      "300/300 [==============================] - 0s 203us/step - loss: 0.0267 - acc: 1.0000\n",
      "Epoch 5/100\n",
      "300/300 [==============================] - 0s 206us/step - loss: 0.0195 - acc: 1.0000\n",
      "Epoch 6/100\n",
      "300/300 [==============================] - 0s 189us/step - loss: 0.0153 - acc: 1.0000\n",
      "Epoch 7/100\n",
      "300/300 [==============================] - 0s 209us/step - loss: 0.0105 - acc: 1.0000\n",
      "Epoch 8/100\n",
      "300/300 [==============================] - 0s 203us/step - loss: 0.0098 - acc: 1.0000\n",
      "Epoch 9/100\n",
      "300/300 [==============================] - 0s 206us/step - loss: 0.0091 - acc: 1.0000\n",
      "Epoch 10/100\n",
      "300/300 [==============================] - 0s 217us/step - loss: 0.0084 - acc: 1.0000\n",
      "Epoch 11/100\n",
      "300/300 [==============================] - 0s 203us/step - loss: 0.0079 - acc: 1.0000\n",
      "Epoch 12/100\n",
      "300/300 [==============================] - 0s 196us/step - loss: 0.0071 - acc: 1.0000\n",
      "Epoch 13/100\n",
      "300/300 [==============================] - 0s 206us/step - loss: 0.0061 - acc: 1.0000\n",
      "Epoch 14/100\n",
      "300/300 [==============================] - 0s 236us/step - loss: 0.0055 - acc: 1.0000\n",
      "Epoch 15/100\n",
      "300/300 [==============================] - 0s 236us/step - loss: 0.0055 - acc: 1.0000\n",
      "Epoch 16/100\n",
      "300/300 [==============================] - 0s 259us/step - loss: 0.0054 - acc: 1.0000\n",
      "Epoch 17/100\n",
      "300/300 [==============================] - 0s 233us/step - loss: 0.0056 - acc: 1.0000\n",
      "Epoch 18/100\n",
      "300/300 [==============================] - 0s 228us/step - loss: 0.0049 - acc: 1.0000\n",
      "Epoch 19/100\n",
      "300/300 [==============================] - 0s 219us/step - loss: 0.0048 - acc: 1.0000\n",
      "Epoch 20/100\n",
      "300/300 [==============================] - 0s 209us/step - loss: 0.0048 - acc: 1.0000\n",
      "Epoch 21/100\n",
      "300/300 [==============================] - 0s 206us/step - loss: 0.0046 - acc: 1.0000\n",
      "Epoch 22/100\n",
      "300/300 [==============================] - 0s 196us/step - loss: 0.0045 - acc: 1.0000\n",
      "Epoch 23/100\n",
      "300/300 [==============================] - 0s 193us/step - loss: 0.0048 - acc: 1.0000\n",
      "Epoch 24/100\n",
      "300/300 [==============================] - 0s 196us/step - loss: 0.0043 - acc: 1.0000\n",
      "Epoch 25/100\n",
      "300/300 [==============================] - 0s 213us/step - loss: 0.0045 - acc: 1.0000\n",
      "Epoch 26/100\n",
      "300/300 [==============================] - 0s 239us/step - loss: 0.0041 - acc: 1.0000\n",
      "Epoch 27/100\n",
      "300/300 [==============================] - 0s 246us/step - loss: 0.0042 - acc: 1.0000\n",
      "Epoch 28/100\n",
      "300/300 [==============================] - 0s 226us/step - loss: 0.0040 - acc: 1.0000\n",
      "Epoch 29/100\n",
      "300/300 [==============================] - 0s 213us/step - loss: 0.0037 - acc: 1.0000\n",
      "Epoch 30/100\n",
      "300/300 [==============================] - 0s 203us/step - loss: 0.0040 - acc: 1.0000\n",
      "Epoch 31/100\n",
      "300/300 [==============================] - 0s 199us/step - loss: 0.0036 - acc: 1.0000\n",
      "Epoch 32/100\n",
      "300/300 [==============================] - 0s 189us/step - loss: 0.0035 - acc: 1.0000\n",
      "Epoch 33/100\n",
      "300/300 [==============================] - 0s 186us/step - loss: 0.0035 - acc: 1.0000\n",
      "Epoch 34/100\n",
      "300/300 [==============================] - 0s 196us/step - loss: 0.0034 - acc: 1.0000\n",
      "Epoch 35/100\n",
      "300/300 [==============================] - 0s 193us/step - loss: 0.0033 - acc: 1.0000\n",
      "Epoch 36/100\n",
      "300/300 [==============================] - 0s 193us/step - loss: 0.0033 - acc: 1.0000\n",
      "Epoch 37/100\n",
      "300/300 [==============================] - 0s 209us/step - loss: 0.0036 - acc: 1.0000\n",
      "Epoch 38/100\n",
      "300/300 [==============================] - 0s 229us/step - loss: 0.0033 - acc: 1.0000\n",
      "Epoch 39/100\n",
      "300/300 [==============================] - 0s 239us/step - loss: 0.0031 - acc: 1.0000\n",
      "Epoch 40/100\n",
      "300/300 [==============================] - 0s 210us/step - loss: 0.0029 - acc: 1.0000\n",
      "Epoch 41/100\n",
      "300/300 [==============================] - 0s 222us/step - loss: 0.0029 - acc: 1.0000\n",
      "Epoch 42/100\n",
      "300/300 [==============================] - 0s 216us/step - loss: 0.0032 - acc: 1.0000\n",
      "Epoch 43/100\n",
      "300/300 [==============================] - 0s 213us/step - loss: 0.0028 - acc: 1.0000\n",
      "Epoch 44/100\n",
      "300/300 [==============================] - 0s 199us/step - loss: 0.0027 - acc: 1.0000\n",
      "Epoch 45/100\n",
      "300/300 [==============================] - 0s 196us/step - loss: 0.0026 - acc: 1.0000\n",
      "Epoch 46/100\n",
      "300/300 [==============================] - 0s 213us/step - loss: 0.0025 - acc: 1.0000\n",
      "Epoch 47/100\n",
      "300/300 [==============================] - 0s 206us/step - loss: 0.0025 - acc: 1.0000\n",
      "Epoch 48/100\n",
      "300/300 [==============================] - 0s 213us/step - loss: 0.0025 - acc: 1.0000\n",
      "Epoch 49/100\n",
      "300/300 [==============================] - 0s 203us/step - loss: 0.0024 - acc: 1.0000\n",
      "Epoch 50/100\n",
      "300/300 [==============================] - 0s 206us/step - loss: 0.0023 - acc: 1.0000\n",
      "Epoch 51/100\n",
      "300/300 [==============================] - 0s 206us/step - loss: 0.0023 - acc: 1.0000\n",
      "Epoch 52/100\n",
      "300/300 [==============================] - 0s 223us/step - loss: 0.0023 - acc: 1.0000\n",
      "Epoch 53/100\n",
      "300/300 [==============================] - 0s 213us/step - loss: 0.0022 - acc: 1.0000\n",
      "Epoch 54/100\n",
      "300/300 [==============================] - 0s 223us/step - loss: 0.0021 - acc: 1.0000\n",
      "Epoch 55/100\n",
      "300/300 [==============================] - 0s 213us/step - loss: 0.0021 - acc: 1.0000\n",
      "Epoch 56/100\n",
      "300/300 [==============================] - 0s 206us/step - loss: 0.0020 - acc: 1.0000\n",
      "Epoch 57/100\n",
      "300/300 [==============================] - 0s 209us/step - loss: 0.0020 - acc: 1.0000\n",
      "Epoch 58/100\n",
      "300/300 [==============================] - 0s 203us/step - loss: 0.0019 - acc: 1.0000\n",
      "Epoch 59/100\n",
      "300/300 [==============================] - 0s 233us/step - loss: 0.0019 - acc: 1.0000\n",
      "Epoch 60/100\n",
      "300/300 [==============================] - 0s 196us/step - loss: 0.0019 - acc: 1.0000\n",
      "Epoch 61/100\n",
      "300/300 [==============================] - 0s 196us/step - loss: 0.0018 - acc: 1.0000\n",
      "Epoch 62/100\n",
      "300/300 [==============================] - 0s 205us/step - loss: 0.0018 - acc: 1.0000\n",
      "Epoch 63/100\n",
      "300/300 [==============================] - 0s 209us/step - loss: 0.0018 - acc: 1.0000\n",
      "Epoch 64/100\n",
      "300/300 [==============================] - 0s 196us/step - loss: 0.0017 - acc: 1.0000\n",
      "Epoch 65/100\n",
      "300/300 [==============================] - 0s 196us/step - loss: 0.0017 - acc: 1.0000\n",
      "Epoch 66/100\n",
      "300/300 [==============================] - 0s 195us/step - loss: 0.0017 - acc: 1.0000\n",
      "Epoch 67/100\n",
      "300/300 [==============================] - 0s 221us/step - loss: 0.0016 - acc: 1.0000\n",
      "Epoch 68/100\n",
      "300/300 [==============================] - 0s 226us/step - loss: 0.0016 - acc: 1.0000\n",
      "Epoch 69/100\n",
      "300/300 [==============================] - 0s 233us/step - loss: 0.0016 - acc: 1.0000\n",
      "Epoch 70/100\n",
      "300/300 [==============================] - 0s 213us/step - loss: 0.0015 - acc: 1.0000\n",
      "Epoch 71/100\n",
      "300/300 [==============================] - 0s 206us/step - loss: 0.0015 - acc: 1.0000\n",
      "Epoch 72/100\n",
      "300/300 [==============================] - 0s 203us/step - loss: 0.0015 - acc: 1.0000\n",
      "Epoch 73/100\n",
      "300/300 [==============================] - 0s 206us/step - loss: 0.0015 - acc: 1.0000\n",
      "Epoch 74/100\n",
      "300/300 [==============================] - 0s 209us/step - loss: 0.0014 - acc: 1.0000\n",
      "Epoch 75/100\n",
      "300/300 [==============================] - 0s 219us/step - loss: 0.0014 - acc: 1.0000\n",
      "Epoch 76/100\n",
      "300/300 [==============================] - 0s 199us/step - loss: 0.0014 - acc: 1.0000\n",
      "Epoch 77/100\n",
      "300/300 [==============================] - 0s 199us/step - loss: 0.0014 - acc: 1.0000\n",
      "Epoch 78/100\n",
      "300/300 [==============================] - 0s 196us/step - loss: 0.0014 - acc: 1.0000\n",
      "Epoch 79/100\n",
      "300/300 [==============================] - 0s 203us/step - loss: 0.0013 - acc: 1.0000\n",
      "Epoch 80/100\n",
      "300/300 [==============================] - 0s 190us/step - loss: 0.0013 - acc: 1.0000\n",
      "Epoch 81/100\n",
      "300/300 [==============================] - 0s 196us/step - loss: 0.0013 - acc: 1.0000\n",
      "Epoch 82/100\n",
      "300/300 [==============================] - 0s 183us/step - loss: 0.0013 - acc: 1.0000\n",
      "Epoch 83/100\n"
     ]
    },
    {
     "name": "stdout",
     "output_type": "stream",
     "text": [
      "300/300 [==============================] - 0s 196us/step - loss: 0.0012 - acc: 1.0000\n",
      "Epoch 84/100\n",
      "300/300 [==============================] - 0s 203us/step - loss: 0.0012 - acc: 1.0000\n",
      "Epoch 85/100\n",
      "300/300 [==============================] - 0s 219us/step - loss: 0.0012 - acc: 1.0000\n",
      "Epoch 86/100\n",
      "300/300 [==============================] - 0s 197us/step - loss: 0.0012 - acc: 1.0000\n",
      "Epoch 87/100\n",
      "300/300 [==============================] - 0s 195us/step - loss: 0.0011 - acc: 1.0000\n",
      "Epoch 88/100\n",
      "300/300 [==============================] - 0s 199us/step - loss: 0.0011 - acc: 1.0000\n",
      "Epoch 89/100\n",
      "300/300 [==============================] - 0s 196us/step - loss: 0.0011 - acc: 1.0000\n",
      "Epoch 90/100\n",
      "300/300 [==============================] - 0s 196us/step - loss: 0.0011 - acc: 1.0000\n",
      "Epoch 91/100\n",
      "300/300 [==============================] - 0s 196us/step - loss: 0.0011 - acc: 1.0000\n",
      "Epoch 92/100\n",
      "300/300 [==============================] - 0s 196us/step - loss: 0.0011 - acc: 1.0000\n",
      "Epoch 93/100\n",
      "300/300 [==============================] - 0s 186us/step - loss: 0.0010 - acc: 1.0000\n",
      "Epoch 94/100\n",
      "300/300 [==============================] - 0s 204us/step - loss: 0.0010 - acc: 1.0000\n",
      "Epoch 95/100\n",
      "300/300 [==============================] - 0s 205us/step - loss: 0.0010 - acc: 1.0000\n",
      "Epoch 96/100\n",
      "300/300 [==============================] - 0s 196us/step - loss: 9.7709e-04 - acc: 1.0000\n",
      "Epoch 97/100\n",
      "300/300 [==============================] - 0s 203us/step - loss: 9.6050e-04 - acc: 1.0000\n",
      "Epoch 98/100\n",
      "300/300 [==============================] - 0s 193us/step - loss: 9.4802e-04 - acc: 1.0000\n",
      "Epoch 99/100\n",
      "300/300 [==============================] - 0s 209us/step - loss: 9.5018e-04 - acc: 1.0000\n",
      "Epoch 100/100\n",
      "300/300 [==============================] - 0s 249us/step - loss: 9.1136e-04 - acc: 1.0000\n"
     ]
    },
    {
     "data": {
      "text/plain": [
       "<keras.callbacks.History at 0x1cccca1fda0>"
      ]
     },
     "execution_count": 481,
     "metadata": {},
     "output_type": "execute_result"
    }
   ],
   "source": [
    "from keras.optimizers import Adam\n",
    "adm = Adam(lr=0.001, beta_1=0.9, beta_2=0.999, epsilon=None, decay=0.0, amsgrad=False)\n",
    "model_1.compile(loss='categorical_crossentropy',optimizer=adm,metrics=['accuracy'])\n",
    "model_1.fit(X_train, Y_train, epochs=100, batch_size=32)"
   ]
  },
  {
   "cell_type": "code",
   "execution_count": 482,
   "metadata": {},
   "outputs": [
    {
     "name": "stdout",
     "output_type": "stream",
     "text": [
      "[[0. 1. 0.]]\n"
     ]
    }
   ],
   "source": [
    "X_test = generate_a_disk()\n",
    "X_test = X_test.reshape(1,X_test.shape[0])\n",
    "print(model_1.predict(X_test))"
   ]
  },
  {
   "cell_type": "markdown",
   "metadata": {},
   "source": [
    "# 4 Visualization of the Solution"
   ]
  },
  {
   "cell_type": "code",
   "execution_count": 592,
   "metadata": {},
   "outputs": [
    {
     "data": {
      "text/plain": [
       "[array([[ 0.00151184,  0.00181847, -0.02540917],\n",
       "        [ 0.01557132, -0.02974826, -0.03300652],\n",
       "        [-0.02573783,  0.02789506, -0.01197678],\n",
       "        ...,\n",
       "        [ 0.01832882,  0.00625486,  0.02764025],\n",
       "        [-0.0265344 ,  0.00970427, -0.00808141],\n",
       "        [-0.03264755, -0.00999988,  0.01853164]], dtype=float32),\n",
       " array([0., 0., 0.], dtype=float32)]"
      ]
     },
     "execution_count": 592,
     "metadata": {},
     "output_type": "execute_result"
    }
   ],
   "source": [
    "model_2.get_weights()"
   ]
  },
  {
   "cell_type": "markdown",
   "metadata": {},
   "source": [
    "# 5 A More Difficult Classification Problem"
   ]
  },
  {
   "cell_type": "code",
   "execution_count": 539,
   "metadata": {},
   "outputs": [
    {
     "name": "stdout",
     "output_type": "stream",
     "text": [
      "Creating data:\n",
      "0\n",
      "10\n",
      "20\n",
      "30\n",
      "40\n",
      "50\n",
      "60\n",
      "70\n",
      "80\n",
      "90\n",
      "100\n",
      "110\n",
      "120\n",
      "130\n",
      "140\n",
      "150\n",
      "160\n",
      "170\n",
      "180\n",
      "190\n",
      "200\n",
      "210\n",
      "220\n",
      "230\n",
      "240\n",
      "250\n",
      "260\n",
      "270\n",
      "280\n",
      "290\n",
      "300\n",
      "310\n",
      "320\n",
      "330\n",
      "340\n",
      "350\n",
      "360\n",
      "370\n",
      "380\n",
      "390\n",
      "400\n",
      "410\n",
      "420\n",
      "430\n",
      "440\n",
      "450\n",
      "460\n",
      "470\n",
      "480\n",
      "490\n",
      "Creating data:\n",
      "0\n",
      "10\n",
      "20\n",
      "30\n",
      "40\n",
      "50\n",
      "60\n",
      "70\n",
      "80\n",
      "90\n",
      "100\n",
      "110\n",
      "120\n",
      "130\n",
      "140\n",
      "150\n",
      "160\n",
      "170\n",
      "180\n",
      "190\n",
      "200\n",
      "210\n",
      "220\n",
      "230\n",
      "240\n",
      "250\n",
      "260\n",
      "270\n",
      "280\n",
      "290\n"
     ]
    }
   ],
   "source": [
    "[X_train, Y_train] = generate_dataset_classification(500, 20, True)\n",
    "[X_test, Y_test] = generate_test_set_classification()"
   ]
  },
  {
   "cell_type": "code",
   "execution_count": 540,
   "metadata": {},
   "outputs": [
    {
     "name": "stdout",
     "output_type": "stream",
     "text": [
      "(500, 3)\n"
     ]
    }
   ],
   "source": [
    "from keras import utils as np_utils\n",
    "Y_train.shape\n",
    "Y_train = np_utils.to_categorical(Y_train, num_classes=3)\n",
    "print(Y_train.shape)"
   ]
  },
  {
   "cell_type": "code",
   "execution_count": 541,
   "metadata": {},
   "outputs": [],
   "source": [
    "X_ = np.empty([500,72,72])\n",
    "X_2 = np.empty([300,72,72])\n",
    "for i in range(len(X_train)):\n",
    "    X_[i] = X_train[i].reshape(72,72)\n",
    "X_train = X_\n",
    "for l in range(len(X_test)):\n",
    "    X_2[l] = X_test[l].reshape(72,72)\n",
    "X_test = X_2"
   ]
  },
  {
   "cell_type": "code",
   "execution_count": 542,
   "metadata": {},
   "outputs": [
    {
     "data": {
      "text/plain": [
       "<matplotlib.image.AxesImage at 0x1ccd37557b8>"
      ]
     },
     "execution_count": 542,
     "metadata": {},
     "output_type": "execute_result"
    },
    {
     "data": {
      "image/png": "[encoded data removed]",
      "text/plain": [
       "<Figure size 432x288 with 1 Axes>"
      ]
     },
     "metadata": {
      "needs_background": "light"
     },
     "output_type": "display_data"
    }
   ],
   "source": [
    "%matplotlib inline\n",
    "plt.imshow(X_[18], cmap = cm.Greys)"
   ]
  },
  {
   "cell_type": "code",
   "execution_count": 543,
   "metadata": {},
   "outputs": [
    {
     "data": {
      "text/plain": [
       "(500, 72, 72)"
      ]
     },
     "execution_count": 543,
     "metadata": {},
     "output_type": "execute_result"
    }
   ],
   "source": [
    "X_train.shape"
   ]
  },
  {
   "cell_type": "code",
   "execution_count": 544,
   "metadata": {},
   "outputs": [
    {
     "data": {
      "text/plain": [
       "(500, 72, 72, 1)"
      ]
     },
     "execution_count": 544,
     "metadata": {},
     "output_type": "execute_result"
    }
   ],
   "source": [
    "X_train = X_train.reshape(X_train.shape[0],72,72,1)\n",
    "X_train = X_train.astype('float32')\n",
    "X_train /= 255\n",
    "X_train.shape"
   ]
  },
  {
   "cell_type": "code",
   "execution_count": 546,
   "metadata": {},
   "outputs": [
    {
     "name": "stdout",
     "output_type": "stream",
     "text": [
      "Epoch 1/15\n",
      "500/500 [==============================] - 8s 17ms/step - loss: 1.0993 - acc: 0.3180\n",
      "Epoch 2/15\n",
      "500/500 [==============================] - 5s 9ms/step - loss: 1.0963 - acc: 0.4600\n",
      "Epoch 3/15\n",
      "500/500 [==============================] - 5s 9ms/step - loss: 1.0863 - acc: 0.4400\n",
      "Epoch 4/15\n",
      "500/500 [==============================] - 5s 9ms/step - loss: 1.0591 - acc: 0.4820\n",
      "Epoch 5/15\n",
      "500/500 [==============================] - 5s 9ms/step - loss: 1.0023 - acc: 0.5240\n",
      "Epoch 6/15\n",
      "500/500 [==============================] - 5s 9ms/step - loss: 0.9413 - acc: 0.5460\n",
      "Epoch 7/15\n",
      "500/500 [==============================] - 5s 10ms/step - loss: 0.8969 - acc: 0.5520\n",
      "Epoch 8/15\n",
      "500/500 [==============================] - 5s 9ms/step - loss: 0.8337 - acc: 0.5860\n",
      "Epoch 9/15\n",
      "500/500 [==============================] - 5s 9ms/step - loss: 0.8200 - acc: 0.6080\n",
      "Epoch 10/15\n",
      "500/500 [==============================] - 5s 9ms/step - loss: 0.7840 - acc: 0.5980\n",
      "Epoch 11/15\n",
      "500/500 [==============================] - 5s 9ms/step - loss: 0.7763 - acc: 0.6220\n",
      "Epoch 12/15\n",
      "500/500 [==============================] - 5s 9ms/step - loss: 0.7746 - acc: 0.6180\n",
      "Epoch 13/15\n",
      "500/500 [==============================] - 5s 9ms/step - loss: 0.7633 - acc: 0.6200\n",
      "Epoch 14/15\n",
      "500/500 [==============================] - 5s 9ms/step - loss: 0.7427 - acc: 0.6280\n",
      "Epoch 15/15\n",
      "500/500 [==============================] - 5s 10ms/step - loss: 0.7418 - acc: 0.6180\n"
     ]
    },
    {
     "data": {
      "text/plain": [
       "<keras.callbacks.History at 0x1cd150cee48>"
      ]
     },
     "execution_count": 546,
     "metadata": {},
     "output_type": "execute_result"
    }
   ],
   "source": [
    "from keras.models import Sequential\n",
    "from keras.layers import Conv2D, MaxPooling2D\n",
    "\n",
    "model = Sequential()\n",
    "model.add(Conv2D(16, (5, 5),padding='same',input_shape=(72,72,1)))\n",
    "model.add(Activation('relu'))\n",
    "model.add(MaxPooling2D(pool_size=(2, 2)))\n",
    "model.add(Dropout(0.25))\n",
    "\n",
    "from keras.layers import Flatten\n",
    "model.add(Flatten())\n",
    "model.add(Dense(1024))\n",
    "model.add(Activation('relu'))\n",
    "model.add(Dropout(0.25))\n",
    "\n",
    "model.add(Dense(3, activation='softmax'))\n",
    "\n",
    "from keras.optimizers import Adam\n",
    "adm = Adam(lr=0.001, beta_1=0.9, beta_2=0.999, epsilon=None, decay=0.0, amsgrad=False)\n",
    "model.compile(loss='categorical_crossentropy',optimizer=adm,metrics=['accuracy'])\n",
    "model.fit(X_train, Y_train,batch_size=32, epochs=15)"
   ]
  },
  {
   "cell_type": "code",
   "execution_count": 547,
   "metadata": {},
   "outputs": [
    {
     "data": {
      "text/plain": [
       "(300, 72, 72, 1)"
      ]
     },
     "execution_count": 547,
     "metadata": {},
     "output_type": "execute_result"
    }
   ],
   "source": [
    "X_test = X_test.reshape(X_test.shape[0],72,72,1)\n",
    "X_test = X_test.astype('float32')\n",
    "X_test /= 255\n",
    "X_test.shape"
   ]
  },
  {
   "cell_type": "code",
   "execution_count": 548,
   "metadata": {},
   "outputs": [
    {
     "name": "stdout",
     "output_type": "stream",
     "text": [
      "300/300 [==============================] - 2s 6ms/step\n",
      "acc: 58.33%\n"
     ]
    }
   ],
   "source": [
    "scores = model.evaluate(X_test,Y_test)\n",
    "print(\"%s: %.2f%%\" % (model.metrics_names[1], scores[1]*100))"
   ]
  },
  {
   "cell_type": "markdown",
   "metadata": {},
   "source": [
    "# 6 A Regression Problem"
   ]
  },
  {
   "cell_type": "code",
   "execution_count": 549,
   "metadata": {},
   "outputs": [
    {
     "name": "stdout",
     "output_type": "stream",
     "text": [
      "Creating data:\n",
      "0\n",
      "10\n",
      "20\n",
      "30\n",
      "40\n",
      "50\n",
      "60\n",
      "70\n",
      "80\n",
      "90\n",
      "100\n",
      "110\n",
      "120\n",
      "130\n",
      "140\n",
      "150\n",
      "160\n",
      "170\n",
      "180\n",
      "190\n",
      "200\n",
      "210\n",
      "220\n",
      "230\n",
      "240\n",
      "250\n",
      "260\n",
      "270\n",
      "280\n",
      "290\n"
     ]
    }
   ],
   "source": [
    "[X_train, Y_train] = generate_dataset_regression(300, 20)"
   ]
  },
  {
   "cell_type": "code",
   "execution_count": 551,
   "metadata": {},
   "outputs": [
    {
     "data": {
      "image/png": "[encoded data removed]",
      "text/plain": [
       "<Figure size 360x360 with 1 Axes>"
      ]
     },
     "metadata": {
      "needs_background": "light"
     },
     "output_type": "display_data"
    }
   ],
   "source": [
    "visualize_prediction(X_train[1], Y_train[1])"
   ]
  },
  {
   "cell_type": "code",
   "execution_count": 579,
   "metadata": {},
   "outputs": [
    {
     "data": {
      "text/plain": [
       "(5184,)"
      ]
     },
     "execution_count": 579,
     "metadata": {},
     "output_type": "execute_result"
    }
   ],
   "source": [
    "X_train[0].shape"
   ]
  },
  {
   "cell_type": "code",
   "execution_count": 580,
   "metadata": {},
   "outputs": [
    {
     "data": {
      "text/plain": [
       "(6,)"
      ]
     },
     "execution_count": 580,
     "metadata": {},
     "output_type": "execute_result"
    }
   ],
   "source": [
    "Y_train[1].shape"
   ]
  },
  {
   "cell_type": "code",
   "execution_count": 586,
   "metadata": {},
   "outputs": [],
   "source": [
    "nb_neurons = 20\n",
    "model = Sequential([\n",
    "    Dense(nb_neurons,input_shape=(5184,)),\n",
    "    Activation('relu'),\n",
    "    Dense(6),\n",
    "    Activation('relu'),\n",
    "])\n"
   ]
  },
  {
   "cell_type": "code",
   "execution_count": 587,
   "metadata": {},
   "outputs": [],
   "source": [
    "from keras.wrappers.scikit_learn import KerasRegressor\n",
    "estimator = KerasRegressor(build_fn=model, epochs=100, batch_size=5, verbose=0)"
   ]
  },
  {
   "cell_type": "code",
   "execution_count": 589,
   "metadata": {},
   "outputs": [
    {
     "ename": "NameError",
     "evalue": "name 'results' is not defined",
     "output_type": "error",
     "traceback": [
      "\u001b[1;31m---------------------------------------------------------------------------\u001b[0m",
      "\u001b[1;31mNameError\u001b[0m                                 Traceback (most recent call last)",
      "\u001b[1;32m<ipython-input-589-14fdf2beb8cb>\u001b[0m in \u001b[0;36m<module>\u001b[1;34m\u001b[0m\n\u001b[0;32m      5\u001b[0m \u001b[0mkfold\u001b[0m \u001b[1;33m=\u001b[0m \u001b[0mKFold\u001b[0m\u001b[1;33m(\u001b[0m\u001b[0mn_splits\u001b[0m\u001b[1;33m=\u001b[0m\u001b[1;36m10\u001b[0m\u001b[1;33m,\u001b[0m \u001b[0mrandom_state\u001b[0m\u001b[1;33m=\u001b[0m\u001b[0mseed\u001b[0m\u001b[1;33m)\u001b[0m\u001b[1;33m\u001b[0m\u001b[1;33m\u001b[0m\u001b[0m\n\u001b[0;32m      6\u001b[0m \u001b[1;31m#results = cross_val_score(estimator, X_train, Y_train, cv=kfold)\u001b[0m\u001b[1;33m\u001b[0m\u001b[1;33m\u001b[0m\u001b[1;33m\u001b[0m\u001b[0m\n\u001b[1;32m----> 7\u001b[1;33m \u001b[0mprint\u001b[0m\u001b[1;33m(\u001b[0m\u001b[1;34m\"Results: %.2f (%.2f) MSE\"\u001b[0m \u001b[1;33m%\u001b[0m \u001b[1;33m(\u001b[0m\u001b[0mresults\u001b[0m\u001b[1;33m.\u001b[0m\u001b[0mmean\u001b[0m\u001b[1;33m(\u001b[0m\u001b[1;33m)\u001b[0m\u001b[1;33m,\u001b[0m \u001b[0mresults\u001b[0m\u001b[1;33m.\u001b[0m\u001b[0mstd\u001b[0m\u001b[1;33m(\u001b[0m\u001b[1;33m)\u001b[0m\u001b[1;33m)\u001b[0m\u001b[1;33m)\u001b[0m\u001b[1;33m\u001b[0m\u001b[1;33m\u001b[0m\u001b[0m\n\u001b[0m",
      "\u001b[1;31mNameError\u001b[0m: name 'results' is not defined"
     ]
    }
   ],
   "source": [
    "from sklearn.model_selection import KFold\n",
    "from sklearn.model_selection import cross_val_score\n",
    "seed = 7\n",
    "np.random.seed(seed)\n",
    "kfold = KFold(n_splits=10, random_state=seed)\n",
    "results = cross_val_score(estimator, X_train, Y_train, cv=kfold)\n",
    "print(\"Results: %.2f (%.2f) MSE\" % (results.mean(), results.std()))"
   ]
  },
  {
   "cell_type": "markdown",
   "metadata": {},
   "source": [
    "# 7 Imagine Denoising"
   ]
  },
  {
   "cell_type": "code",
   "execution_count": null,
   "metadata": {},
   "outputs": [],
   "source": [
    "def generate_a_drawing_2(figsize, U, V, noise=0.0):\n",
    "    fig = plt.figure(figsize=(figsize,figsize))\n",
    "    ax = plt.subplot(111)\n",
    "    plt.axis('Off')\n",
    "    ax.set_xlim(0,figsize)\n",
    "    ax.set_ylim(0,figsize)\n",
    "    ax.fill(U, V, \"k\")\n",
    "    fig.canvas.draw()\n",
    "    ax2 = plt.subplot(112)\n",
    "    \n",
    "    imdata = np.frombuffer(fig.canvas.tostring_rgb(), dtype=np.uint8)[::3].astype(np.float32)\n",
    "    imdata\n",
    "    imdata = imdata + noise * np.random.random(imdata.size)\n",
    "    plt.close(fig)\n",
    "    return imdata\n",
    "\n",
    "def generate_a_rectangle_2(noise=0.0, free_location=False):\n",
    "    figsize = 1.0    \n",
    "    U = np.zeros(4)\n",
    "    V = np.zeros(4)\n",
    "    if free_location:\n",
    "        corners = np.random.random(4)\n",
    "        top = max(corners[0], corners[1])\n",
    "        bottom = min(corners[0], corners[1])\n",
    "        left = min(corners[2], corners[3])\n",
    "        right = max(corners[2], corners[3])\n",
    "    else:\n",
    "        side = (0.3 + 0.7 * np.random.random()) * figsize\n",
    "        top = figsize/2 + side/2\n",
    "        bottom = figsize/2 - side/2\n",
    "        left = bottom\n",
    "        right = top\n",
    "    U[0] = U[1] = top\n",
    "    U[2] = U[3] = bottom\n",
    "    V[0] = V[3] = left\n",
    "    V[1] = V[2] = right\n",
    "    return generate_a_drawing_2(figsize, U, V, noise)"
   ]
  },
  {
   "cell_type": "code",
   "execution_count": null,
   "metadata": {},
   "outputs": [],
   "source": []
  }
 ],
 "metadata": {
  "kernelspec": {
   "display_name": "Python 3",
   "language": "python",
   "name": "python3"
  },
  "language_info": {
   "codemirror_mode": {
    "name": "ipython",
    "version": 3
   },
   "file_extension": ".py",
   "mimetype": "text/x-python",
   "name": "python",
   "nbconvert_exporter": "python",
   "pygments_lexer": "ipython3",
   "version": "3.6.7"
  }
 },
 "nbformat": 4,
 "nbformat_minor": 2
}
